{
  "nbformat": 4,
  "nbformat_minor": 0,
  "metadata": {
    "colab": {
      "name": "Copy of KNN-Tugas 3.ipynb",
      "provenance": [],
      "collapsed_sections": [],
      "include_colab_link": true
    },
    "kernelspec": {
      "name": "python3",
      "display_name": "Python 3"
    },
    "language_info": {
      "name": "python"
    }
  },
  "cells": [
    {
      "cell_type": "markdown",
      "metadata": {
        "id": "view-in-github",
        "colab_type": "text"
      },
      "source": [
        "<a href=\"https://colab.research.google.com/github/serlysetyani/k-nearest-neighbors/blob/main/kNN.ipynb\" target=\"_parent\"><img src=\"https://colab.research.google.com/assets/colab-badge.svg\" alt=\"Open In Colab\"/></a>"
      ]
    },
    {
      "cell_type": "markdown",
      "metadata": {
        "id": "CXksd8hxwbMm"
      },
      "source": [
        "# **IMPORT LIBRARY**"
      ]
    },
    {
      "cell_type": "code",
      "metadata": {
        "id": "gVVAp97udXxB"
      },
      "source": [
        "import pandas as pd"
      ],
      "execution_count": null,
      "outputs": []
    },
    {
      "cell_type": "markdown",
      "metadata": {
        "id": "mbx-aYS2woBz"
      },
      "source": [
        "# **READ DATA**"
      ]
    },
    {
      "cell_type": "code",
      "metadata": {
        "colab": {
          "base_uri": "https://localhost:8080/",
          "height": 576
        },
        "id": "NjKhk_IwdZF2",
        "outputId": "09bc8e0a-bc42-4f87-90bf-5135d3e7f45c"
      },
      "source": [
        "data = pd.read_excel(\"https://github.com/serlysetyani/k-nearest-neighbors/blob/main/mobil.xls?raw=true\")\n",
        "data"
      ],
      "execution_count": null,
      "outputs": [
        {
          "output_type": "execute_result",
          "data": {
            "text/html": [
              "<div>\n",
              "<style scoped>\n",
              "    .dataframe tbody tr th:only-of-type {\n",
              "        vertical-align: middle;\n",
              "    }\n",
              "\n",
              "    .dataframe tbody tr th {\n",
              "        vertical-align: top;\n",
              "    }\n",
              "\n",
              "    .dataframe thead th {\n",
              "        text-align: right;\n",
              "    }\n",
              "</style>\n",
              "<table border=\"1\" class=\"dataframe\">\n",
              "  <thead>\n",
              "    <tr style=\"text-align: right;\">\n",
              "      <th></th>\n",
              "      <th>Nama Mobil</th>\n",
              "      <th>Ukuran</th>\n",
              "      <th>Kenyamanan</th>\n",
              "      <th>Irit</th>\n",
              "      <th>Kecepatan</th>\n",
              "      <th>Harga (Ratus Juta)</th>\n",
              "    </tr>\n",
              "  </thead>\n",
              "  <tbody>\n",
              "    <tr>\n",
              "      <th>0</th>\n",
              "      <td>Toyota Agya</td>\n",
              "      <td>4</td>\n",
              "      <td>4</td>\n",
              "      <td>9</td>\n",
              "      <td>6</td>\n",
              "      <td>1.00</td>\n",
              "    </tr>\n",
              "    <tr>\n",
              "      <th>1</th>\n",
              "      <td>Daihatsu Alya</td>\n",
              "      <td>4</td>\n",
              "      <td>3</td>\n",
              "      <td>9</td>\n",
              "      <td>6</td>\n",
              "      <td>1.10</td>\n",
              "    </tr>\n",
              "    <tr>\n",
              "      <th>2</th>\n",
              "      <td>Toyota Avanza</td>\n",
              "      <td>6</td>\n",
              "      <td>5</td>\n",
              "      <td>6</td>\n",
              "      <td>6</td>\n",
              "      <td>2.00</td>\n",
              "    </tr>\n",
              "    <tr>\n",
              "      <th>3</th>\n",
              "      <td>Daihatsu Xenia</td>\n",
              "      <td>6</td>\n",
              "      <td>4</td>\n",
              "      <td>6</td>\n",
              "      <td>6</td>\n",
              "      <td>1.75</td>\n",
              "    </tr>\n",
              "    <tr>\n",
              "      <th>4</th>\n",
              "      <td>Xpander</td>\n",
              "      <td>7</td>\n",
              "      <td>7</td>\n",
              "      <td>6</td>\n",
              "      <td>7</td>\n",
              "      <td>2.25</td>\n",
              "    </tr>\n",
              "    <tr>\n",
              "      <th>5</th>\n",
              "      <td>Livina</td>\n",
              "      <td>7</td>\n",
              "      <td>7</td>\n",
              "      <td>6</td>\n",
              "      <td>7</td>\n",
              "      <td>2.10</td>\n",
              "    </tr>\n",
              "    <tr>\n",
              "      <th>6</th>\n",
              "      <td>Karimun</td>\n",
              "      <td>3</td>\n",
              "      <td>4</td>\n",
              "      <td>10</td>\n",
              "      <td>5</td>\n",
              "      <td>1.20</td>\n",
              "    </tr>\n",
              "    <tr>\n",
              "      <th>7</th>\n",
              "      <td>Toyota Innova</td>\n",
              "      <td>8</td>\n",
              "      <td>8</td>\n",
              "      <td>5</td>\n",
              "      <td>7</td>\n",
              "      <td>4.00</td>\n",
              "    </tr>\n",
              "    <tr>\n",
              "      <th>8</th>\n",
              "      <td>Alphard</td>\n",
              "      <td>9</td>\n",
              "      <td>10</td>\n",
              "      <td>4</td>\n",
              "      <td>8</td>\n",
              "      <td>10.00</td>\n",
              "    </tr>\n",
              "    <tr>\n",
              "      <th>9</th>\n",
              "      <td>Toyota Vios</td>\n",
              "      <td>5</td>\n",
              "      <td>7</td>\n",
              "      <td>9</td>\n",
              "      <td>8</td>\n",
              "      <td>2.50</td>\n",
              "    </tr>\n",
              "    <tr>\n",
              "      <th>10</th>\n",
              "      <td>Honda City</td>\n",
              "      <td>5</td>\n",
              "      <td>8</td>\n",
              "      <td>7</td>\n",
              "      <td>8</td>\n",
              "      <td>2.70</td>\n",
              "    </tr>\n",
              "    <tr>\n",
              "      <th>11</th>\n",
              "      <td>Toyota Hiace</td>\n",
              "      <td>10</td>\n",
              "      <td>5</td>\n",
              "      <td>8</td>\n",
              "      <td>6</td>\n",
              "      <td>5.00</td>\n",
              "    </tr>\n",
              "    <tr>\n",
              "      <th>12</th>\n",
              "      <td>Toyota Fortuner</td>\n",
              "      <td>9</td>\n",
              "      <td>8</td>\n",
              "      <td>5</td>\n",
              "      <td>8</td>\n",
              "      <td>5.00</td>\n",
              "    </tr>\n",
              "    <tr>\n",
              "      <th>13</th>\n",
              "      <td>Toyota Foxy</td>\n",
              "      <td>9</td>\n",
              "      <td>9</td>\n",
              "      <td>5</td>\n",
              "      <td>7</td>\n",
              "      <td>5.50</td>\n",
              "    </tr>\n",
              "    <tr>\n",
              "      <th>14</th>\n",
              "      <td>Toyota Corolla Altis</td>\n",
              "      <td>5</td>\n",
              "      <td>9</td>\n",
              "      <td>7</td>\n",
              "      <td>9</td>\n",
              "      <td>6.00</td>\n",
              "    </tr>\n",
              "    <tr>\n",
              "      <th>15</th>\n",
              "      <td>Suzuki Ertiga</td>\n",
              "      <td>7</td>\n",
              "      <td>7</td>\n",
              "      <td>7</td>\n",
              "      <td>7</td>\n",
              "      <td>2.30</td>\n",
              "    </tr>\n",
              "    <tr>\n",
              "      <th>16</th>\n",
              "      <td>Suzuki Carry</td>\n",
              "      <td>7</td>\n",
              "      <td>3</td>\n",
              "      <td>9</td>\n",
              "      <td>5</td>\n",
              "      <td>0.80</td>\n",
              "    </tr>\n",
              "  </tbody>\n",
              "</table>\n",
              "</div>"
            ],
            "text/plain": [
              "              Nama Mobil  Ukuran  ...  Kecepatan  Harga (Ratus Juta)\n",
              "0            Toyota Agya       4  ...          6                1.00\n",
              "1          Daihatsu Alya       4  ...          6                1.10\n",
              "2          Toyota Avanza       6  ...          6                2.00\n",
              "3         Daihatsu Xenia       6  ...          6                1.75\n",
              "4                Xpander       7  ...          7                2.25\n",
              "5                 Livina       7  ...          7                2.10\n",
              "6                Karimun       3  ...          5                1.20\n",
              "7          Toyota Innova       8  ...          7                4.00\n",
              "8                Alphard       9  ...          8               10.00\n",
              "9            Toyota Vios       5  ...          8                2.50\n",
              "10            Honda City       5  ...          8                2.70\n",
              "11          Toyota Hiace      10  ...          6                5.00\n",
              "12       Toyota Fortuner       9  ...          8                5.00\n",
              "13           Toyota Foxy       9  ...          7                5.50\n",
              "14  Toyota Corolla Altis       5  ...          9                6.00\n",
              "15         Suzuki Ertiga       7  ...          7                2.30\n",
              "16          Suzuki Carry       7  ...          5                0.80\n",
              "\n",
              "[17 rows x 6 columns]"
            ]
          },
          "metadata": {
            "tags": []
          },
          "execution_count": 2
        }
      ]
    },
    {
      "cell_type": "markdown",
      "metadata": {
        "id": "tagbzZyxwCOw"
      },
      "source": [
        "# **PRAPEMROSESAN DATA**"
      ]
    },
    {
      "cell_type": "code",
      "metadata": {
        "colab": {
          "base_uri": "https://localhost:8080/"
        },
        "id": "AqVUtCZELsoZ",
        "outputId": "72624028-ef62-44a3-c3ef-00c02a2459d3"
      },
      "source": [
        "data.isna().sum()"
      ],
      "execution_count": null,
      "outputs": [
        {
          "output_type": "execute_result",
          "data": {
            "text/plain": [
              "Nama Mobil            0\n",
              "Ukuran                0\n",
              "Kenyamanan            0\n",
              "Irit                  0\n",
              "Kecepatan             0\n",
              "Harga (Ratus Juta)    0\n",
              "dtype: int64"
            ]
          },
          "metadata": {
            "tags": []
          },
          "execution_count": 3
        }
      ]
    },
    {
      "cell_type": "code",
      "metadata": {
        "colab": {
          "base_uri": "https://localhost:8080/",
          "height": 576
        },
        "id": "cB4QB6sFKnKf",
        "outputId": "2eb677ea-a0e9-48cc-c9b7-15c239d6ccc9"
      },
      "source": [
        "data.drop(\"Nama Mobil\", axis=1)"
      ],
      "execution_count": null,
      "outputs": [
        {
          "output_type": "execute_result",
          "data": {
            "text/html": [
              "<div>\n",
              "<style scoped>\n",
              "    .dataframe tbody tr th:only-of-type {\n",
              "        vertical-align: middle;\n",
              "    }\n",
              "\n",
              "    .dataframe tbody tr th {\n",
              "        vertical-align: top;\n",
              "    }\n",
              "\n",
              "    .dataframe thead th {\n",
              "        text-align: right;\n",
              "    }\n",
              "</style>\n",
              "<table border=\"1\" class=\"dataframe\">\n",
              "  <thead>\n",
              "    <tr style=\"text-align: right;\">\n",
              "      <th></th>\n",
              "      <th>Ukuran</th>\n",
              "      <th>Kenyamanan</th>\n",
              "      <th>Irit</th>\n",
              "      <th>Kecepatan</th>\n",
              "      <th>Harga (Ratus Juta)</th>\n",
              "    </tr>\n",
              "  </thead>\n",
              "  <tbody>\n",
              "    <tr>\n",
              "      <th>0</th>\n",
              "      <td>4</td>\n",
              "      <td>4</td>\n",
              "      <td>9</td>\n",
              "      <td>6</td>\n",
              "      <td>1.00</td>\n",
              "    </tr>\n",
              "    <tr>\n",
              "      <th>1</th>\n",
              "      <td>4</td>\n",
              "      <td>3</td>\n",
              "      <td>9</td>\n",
              "      <td>6</td>\n",
              "      <td>1.10</td>\n",
              "    </tr>\n",
              "    <tr>\n",
              "      <th>2</th>\n",
              "      <td>6</td>\n",
              "      <td>5</td>\n",
              "      <td>6</td>\n",
              "      <td>6</td>\n",
              "      <td>2.00</td>\n",
              "    </tr>\n",
              "    <tr>\n",
              "      <th>3</th>\n",
              "      <td>6</td>\n",
              "      <td>4</td>\n",
              "      <td>6</td>\n",
              "      <td>6</td>\n",
              "      <td>1.75</td>\n",
              "    </tr>\n",
              "    <tr>\n",
              "      <th>4</th>\n",
              "      <td>7</td>\n",
              "      <td>7</td>\n",
              "      <td>6</td>\n",
              "      <td>7</td>\n",
              "      <td>2.25</td>\n",
              "    </tr>\n",
              "    <tr>\n",
              "      <th>5</th>\n",
              "      <td>7</td>\n",
              "      <td>7</td>\n",
              "      <td>6</td>\n",
              "      <td>7</td>\n",
              "      <td>2.10</td>\n",
              "    </tr>\n",
              "    <tr>\n",
              "      <th>6</th>\n",
              "      <td>3</td>\n",
              "      <td>4</td>\n",
              "      <td>10</td>\n",
              "      <td>5</td>\n",
              "      <td>1.20</td>\n",
              "    </tr>\n",
              "    <tr>\n",
              "      <th>7</th>\n",
              "      <td>8</td>\n",
              "      <td>8</td>\n",
              "      <td>5</td>\n",
              "      <td>7</td>\n",
              "      <td>4.00</td>\n",
              "    </tr>\n",
              "    <tr>\n",
              "      <th>8</th>\n",
              "      <td>9</td>\n",
              "      <td>10</td>\n",
              "      <td>4</td>\n",
              "      <td>8</td>\n",
              "      <td>10.00</td>\n",
              "    </tr>\n",
              "    <tr>\n",
              "      <th>9</th>\n",
              "      <td>5</td>\n",
              "      <td>7</td>\n",
              "      <td>9</td>\n",
              "      <td>8</td>\n",
              "      <td>2.50</td>\n",
              "    </tr>\n",
              "    <tr>\n",
              "      <th>10</th>\n",
              "      <td>5</td>\n",
              "      <td>8</td>\n",
              "      <td>7</td>\n",
              "      <td>8</td>\n",
              "      <td>2.70</td>\n",
              "    </tr>\n",
              "    <tr>\n",
              "      <th>11</th>\n",
              "      <td>10</td>\n",
              "      <td>5</td>\n",
              "      <td>8</td>\n",
              "      <td>6</td>\n",
              "      <td>5.00</td>\n",
              "    </tr>\n",
              "    <tr>\n",
              "      <th>12</th>\n",
              "      <td>9</td>\n",
              "      <td>8</td>\n",
              "      <td>5</td>\n",
              "      <td>8</td>\n",
              "      <td>5.00</td>\n",
              "    </tr>\n",
              "    <tr>\n",
              "      <th>13</th>\n",
              "      <td>9</td>\n",
              "      <td>9</td>\n",
              "      <td>5</td>\n",
              "      <td>7</td>\n",
              "      <td>5.50</td>\n",
              "    </tr>\n",
              "    <tr>\n",
              "      <th>14</th>\n",
              "      <td>5</td>\n",
              "      <td>9</td>\n",
              "      <td>7</td>\n",
              "      <td>9</td>\n",
              "      <td>6.00</td>\n",
              "    </tr>\n",
              "    <tr>\n",
              "      <th>15</th>\n",
              "      <td>7</td>\n",
              "      <td>7</td>\n",
              "      <td>7</td>\n",
              "      <td>7</td>\n",
              "      <td>2.30</td>\n",
              "    </tr>\n",
              "    <tr>\n",
              "      <th>16</th>\n",
              "      <td>7</td>\n",
              "      <td>3</td>\n",
              "      <td>9</td>\n",
              "      <td>5</td>\n",
              "      <td>0.80</td>\n",
              "    </tr>\n",
              "  </tbody>\n",
              "</table>\n",
              "</div>"
            ],
            "text/plain": [
              "    Ukuran  Kenyamanan  Irit  Kecepatan  Harga (Ratus Juta)\n",
              "0        4           4     9          6                1.00\n",
              "1        4           3     9          6                1.10\n",
              "2        6           5     6          6                2.00\n",
              "3        6           4     6          6                1.75\n",
              "4        7           7     6          7                2.25\n",
              "5        7           7     6          7                2.10\n",
              "6        3           4    10          5                1.20\n",
              "7        8           8     5          7                4.00\n",
              "8        9          10     4          8               10.00\n",
              "9        5           7     9          8                2.50\n",
              "10       5           8     7          8                2.70\n",
              "11      10           5     8          6                5.00\n",
              "12       9           8     5          8                5.00\n",
              "13       9           9     5          7                5.50\n",
              "14       5           9     7          9                6.00\n",
              "15       7           7     7          7                2.30\n",
              "16       7           3     9          5                0.80"
            ]
          },
          "metadata": {
            "tags": []
          },
          "execution_count": 4
        }
      ]
    },
    {
      "cell_type": "markdown",
      "metadata": {
        "id": "23wOf42mxZ7U"
      },
      "source": [
        "# **PERHITUNGAN UKURAN JARAK**"
      ]
    },
    {
      "cell_type": "code",
      "metadata": {
        "id": "UlDGbSuZ-aGG"
      },
      "source": [
        "def euclidean_distance(x1,x2):\n",
        "  distance = 0\n",
        "  for i in range(len(x1)):\n",
        "    distance += (x1[i] - x2[i])**2\n",
        "  return distance ** 0.5\n",
        "\n",
        "def manhattan_distance(x1,x2):\n",
        "  distance = 0\n",
        "  for i in range(len(x1)):\n",
        "    distance += abs(x1[i] - x2[i])\n",
        "  return distance\n",
        "\n",
        "def minkowski_distance(x1,x2):\n",
        "  distance = 0\n",
        "  h = 3\n",
        "  for i in range (len(x1)):\n",
        "    distance += abs(x1[i] - x2[i])**h\n",
        "  return distance ** (1/h)\n",
        "\n",
        "def supremum_distance(x1,x2):\n",
        "  distance = []\n",
        "  for i in range(len(x1)):\n",
        "    distance.extend([abs(x1[i]-x2[i])])\n",
        "  return max(distance)"
      ],
      "execution_count": null,
      "outputs": []
    },
    {
      "cell_type": "markdown",
      "metadata": {
        "id": "I4ElH_4Kxetg"
      },
      "source": [
        "# **STRATEGI PENGGUNAAN KNN**"
      ]
    },
    {
      "cell_type": "code",
      "metadata": {
        "id": "_F_PxKDFKb24"
      },
      "source": [
        "def convert_list(train_data):\n",
        "  ukuran = train_data.get('Ukuran')\n",
        "  kenyamanan = train_data.get('Kenyamanan')\n",
        "  irit = train_data.get('Irit')\n",
        "  kecepatan = train_data.get('Kecepatan')\n",
        "  harga = train_data.get('Harga (Ratus Juta)')\n",
        "  return [ukuran, kenyamanan, irit, kecepatan, harga]"
      ],
      "execution_count": null,
      "outputs": []
    },
    {
      "cell_type": "code",
      "metadata": {
        "id": "cBlYaulTL2Ug"
      },
      "source": [
        "def knn(k):\n",
        "  euclidean_distance_list, manhattan_distance_list, minkowski_distance_list, supremum_distance_list = [],[],[],[]\n",
        " \n",
        "  for i in range(len(data)):\n",
        "    euclidean_distance_list.append([euclidean_distance(convert_list(data.iloc[i]),data_test),i])\n",
        "    manhattan_distance_list.append([manhattan_distance(convert_list(data.iloc[i]),data_test),i])\n",
        "    minkowski_distance_list.append([minkowski_distance(convert_list(data.iloc[i]),data_test),i])\n",
        "    supremum_distance_list.append([supremum_distance(convert_list(data.iloc[i]),data_test),i])\n",
        "  euclidean_distance_list.sort()\n",
        "  manhattan_distance_list.sort()\n",
        "  minkowski_distance_list.sort()\n",
        "  supremum_distance_list.sort()\n",
        " \n",
        "  return euclidean_distance_list[:k], manhattan_distance_list[:k], minkowski_distance_list[:k] , supremum_distance_list[:k]"
      ],
      "execution_count": null,
      "outputs": []
    },
    {
      "cell_type": "markdown",
      "metadata": {
        "id": "6T48d47gw7fy"
      },
      "source": [
        "# **MAIN PROGRAM**"
      ]
    },
    {
      "cell_type": "markdown",
      "metadata": {
        "id": "38Cx2yZ8xzdV"
      },
      "source": [
        "**Cek semua metode**"
      ]
    },
    {
      "cell_type": "code",
      "metadata": {
        "colab": {
          "base_uri": "https://localhost:8080/"
        },
        "id": "qsIOoMDSkTdP",
        "outputId": "bb108373-443e-4ee1-ee14-dd0ff3b9e679"
      },
      "source": [
        "print(\"Inputkan data tes:\")\n",
        "ukuran = int(input('Ukuran: '))\n",
        "kenyamanan = int(input('Kenyamanan: '))\n",
        "irit = int(input('Irit: '))\n",
        "kecepatan = int(input('Kecepatan: '))\n",
        "harga = float(input('Harga: '))\n",
        "print()\n",
        "data_test = [ukuran,kenyamanan,irit,kecepatan,harga]\n",
        "\n",
        "euclidean_result, manhattan_result, minkowski_result, supremum_result= knn(3)\n",
        "\n",
        "print('Rekomendasi (Euclidean):')\n",
        "for i in range(len(euclidean_result)):\n",
        "  print(str(i+1)+'.'+' '+data.iloc[euclidean_result[i][1]]['Nama Mobil'])\n",
        "print()\n",
        " \n",
        "print('Rekomendasi (Manhattan):')\n",
        "for i in range(len(manhattan_result)):\n",
        "  print(str(i+1)+'.'+' '+data.iloc[manhattan_result[i][1]]['Nama Mobil'])\n",
        "print()\n",
        " \n",
        "print('Rekomendasi (Minkowski):')\n",
        "for i in range(len(minkowski_result)):\n",
        "  print(str(i+1)+'.'+' '+data.iloc[minkowski_result[i][1]]['Nama Mobil'])\n",
        "print()\n",
        "\n",
        "print('Rekomendasi (Supremum):')\n",
        "for i in range(len(supremum_result)):\n",
        "  print(str(i+1)+'.'+' '+data.iloc[supremum_result[i][1]]['Nama Mobil'])\n",
        "print()"
      ],
      "execution_count": null,
      "outputs": [
        {
          "output_type": "stream",
          "text": [
            "Inputkan data tes:\n",
            "Ukuran: 7\n",
            "Kenyamanan: 8\n",
            "Irit: 7\n",
            "Kecepatan: 7\n",
            "Harga: 5\n",
            "\n",
            "Rekomendasi (Euclidean):\n",
            "1. Toyota Innova\n",
            "2. Suzuki Ertiga\n",
            "3. Toyota Fortuner\n",
            "\n",
            "Rekomendasi (Manhattan):\n",
            "1. Suzuki Ertiga\n",
            "2. Toyota Innova\n",
            "3. Xpander\n",
            "\n",
            "Rekomendasi (Minkowski):\n",
            "1. Toyota Innova\n",
            "2. Toyota Fortuner\n",
            "3. Toyota Foxy\n",
            "\n",
            "Rekomendasi (Supremum):\n",
            "1. Toyota Innova\n",
            "2. Toyota Fortuner\n",
            "3. Toyota Foxy\n",
            "\n"
          ],
          "name": "stdout"
        }
      ]
    },
    {
      "cell_type": "markdown",
      "metadata": {
        "id": "pzoBpErLyHGM"
      },
      "source": [
        "**mengeluarkan output file rekomendasi (Manhattan)**"
      ]
    },
    {
      "cell_type": "code",
      "metadata": {
        "id": "BRKosSduj7sg"
      },
      "source": [
        "rekomendasi_manhattan = []\n",
        "for i in range(len(manhattan_result)):\n",
        "  rekomendasi_manhattan.extend([data.iloc[manhattan_result[i][1]]['Nama Mobil']])\n",
        "rekomendasi = pd.DataFrame(rekomendasi_manhattan)\n",
        "rekomendasi.to_excel('rekomendasi.xls',index=False, header=False)"
      ],
      "execution_count": null,
      "outputs": []
    }
  ]
}